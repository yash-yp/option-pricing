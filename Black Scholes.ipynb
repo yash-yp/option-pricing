{
 "cells": [
  {
   "cell_type": "code",
   "execution_count": 3,
   "id": "9778f0fd-d82b-49b0-9b5f-72059e20e630",
   "metadata": {},
   "outputs": [],
   "source": [
    "from scipy import stats\n",
    "from numpy import log, exp, sqrt"
   ]
  },
  {
   "cell_type": "code",
   "execution_count": 29,
   "id": "453f5702-0c7d-4465-8079-87e786513a2d",
   "metadata": {},
   "outputs": [],
   "source": [
    "def black_scholes(S0, t, sigma, E, T, r, option_type):\n",
    "    d1 = (log(S0/E) + (r + sigma**2/2)*(T-t))/(sigma*(sqrt(T-t)))\n",
    "    d2 = d1 - sigma*(sqrt(T-t))\n",
    "\n",
    "    if (option_type==\"call\"):\n",
    "        return S0*(stats.norm.cdf(d1)) - E*exp(-r*(T-t))*(stats.norm.cdf(d2))\n",
    "    elif (option_type==\"put\"):\n",
    "        return -S0*(stats.norm.cdf(-d1)) + E*exp(-r*(T-t))*(stats.norm.cdf(-d2))\n",
    "    else:\n",
    "        raise ValueError(\"Option type can only be 'put' or 'call'\")\n",
    "\n"
   ]
  },
  {
   "cell_type": "code",
   "execution_count": 35,
   "id": "3244e81a-2352-4f97-94f0-f4b939153e74",
   "metadata": {},
   "outputs": [],
   "source": [
    "S0 = 100\n",
    "E = 100\n",
    "T = 1\n",
    "rf = 0.05\n",
    "sigma = 0.2\n",
    "\n",
    "put_price = black_scholes(100, 0,sigma, E, T, rf, \"put\") \n",
    "call_price = black_scholes(100, 0, sigma, E, T, rf, \"call\")"
   ]
  },
  {
   "cell_type": "code",
   "execution_count": 37,
   "id": "661d4d6e-f9d5-413c-a4bb-91e72c93d4a3",
   "metadata": {},
   "outputs": [
    {
     "name": "stdout",
     "output_type": "stream",
     "text": [
      "Put Option Price:  5.573526022256971\n",
      "Call Option Price:  10.450583572185565\n"
     ]
    }
   ],
   "source": [
    "print(\"Put Option Price: \", put_price)\n",
    "print(\"Call Option Price: \", call_price)"
   ]
  },
  {
   "cell_type": "code",
   "execution_count": null,
   "id": "9a3335dd-6120-463b-947e-4d835454fce9",
   "metadata": {},
   "outputs": [],
   "source": []
  },
  {
   "cell_type": "code",
   "execution_count": 1,
   "id": "d871b390-15fa-4e66-9ad3-b96e11bf8530",
   "metadata": {},
   "outputs": [
    {
     "name": "stdout",
     "output_type": "stream",
     "text": [
      "Implied Volatility: 0.1880\n"
     ]
    }
   ],
   "source": [
    "from scipy.stats import norm\n",
    "import numpy as np\n",
    "\n",
    "def black_scholes_price(S0, E, T, r, sigma, option_type='call'):\n",
    "    d1 = (np.log(S0 / E) + (r + 0.5 * sigma ** 2) * T) / (sigma * np.sqrt(T))\n",
    "    d2 = d1 - sigma * np.sqrt(T)\n",
    "    if option_type == 'call':\n",
    "        price = S0 * norm.cdf(d1) - E * np.exp(-r * T) * norm.cdf(d2)\n",
    "    else:\n",
    "        price = E * np.exp(-r * T) * norm.cdf(-d2) - S0 * norm.cdf(-d1)\n",
    "    return price\n",
    "\n",
    "def implied_volatility_bisection(market_price, S0, E, T, r, option_type='call', tol=1e-6, max_iter=100):\n",
    "    low_vol = 1e-5\n",
    "    high_vol = 5.0\n",
    "    for i in range(max_iter):\n",
    "        mid_vol = (low_vol + high_vol) / 2\n",
    "        price = black_scholes_price(S0, E, T, r, mid_vol, option_type)\n",
    "        diff = price - market_price\n",
    "\n",
    "        if abs(diff) < tol:\n",
    "            return mid_vol\n",
    "        if diff > 0:\n",
    "            high_vol = mid_vol\n",
    "        else:\n",
    "            low_vol = mid_vol\n",
    "    return mid_vol  # Return the best estimate if no exact root found\n",
    "\n",
    "# Example usage:\n",
    "market_price = 10.0\n",
    "S0 = 100\n",
    "E = 100\n",
    "T = 1\n",
    "r = 0.05\n",
    "iv = implied_volatility_bisection(market_price, S0, E, T, r, option_type='call')\n",
    "print(f\"Implied Volatility: {iv:.4f}\")\n"
   ]
  },
  {
   "cell_type": "code",
   "execution_count": null,
   "id": "af15918b-d257-4b93-b246-7a8cd5d66015",
   "metadata": {},
   "outputs": [],
   "source": []
  }
 ],
 "metadata": {
  "kernelspec": {
   "display_name": "Python [conda env:base] *",
   "language": "python",
   "name": "conda-base-py"
  },
  "language_info": {
   "codemirror_mode": {
    "name": "ipython",
    "version": 3
   },
   "file_extension": ".py",
   "mimetype": "text/x-python",
   "name": "python",
   "nbconvert_exporter": "python",
   "pygments_lexer": "ipython3",
   "version": "3.12.2"
  }
 },
 "nbformat": 4,
 "nbformat_minor": 5
}
