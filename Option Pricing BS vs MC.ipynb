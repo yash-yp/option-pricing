{
 "cells": [
  {
   "cell_type": "code",
   "execution_count": 300,
   "id": "756b7ec1-46da-4c31-95db-b932424f3ca6",
   "metadata": {},
   "outputs": [],
   "source": [
    "import numpy as np\n",
    "import pandas as pd\n",
    "import matplotlib.pyplot as plt\n",
    "from scipy.stats import norm"
   ]
  },
  {
   "cell_type": "code",
   "execution_count": 302,
   "id": "4606bf7c-646d-4006-91d4-e436996888d8",
   "metadata": {},
   "outputs": [],
   "source": [
    "# Basically calculate the price of stock at time T using Monte Carlo Simulations\n",
    "# Next the option value can be calculated at time T using the Black Scholes Model\n",
    "# Calculate the mean stock price\n",
    "# Since we have the prices of both, the payoff can be calculated\n",
    "# Discount the payoff according to the time value of of money concept\n",
    "# Take the mean"
   ]
  },
  {
   "cell_type": "code",
   "execution_count": 304,
   "id": "89a426a1-cadb-4330-9e37-24eb7f7d5dac",
   "metadata": {},
   "outputs": [],
   "source": [
    "\n",
    "def option_value(S0, E, sigma, rf,T, t=0, option_type='call'):\n",
    "    d1 = (np.log(S0/E) + (rf + sigma**2/2)*(T-t))/(sigma*np.sqrt(T-t))\n",
    "    d2 = d1 - sigma*np.sqrt(T-t)\n",
    "    if (option_type=='call'):\n",
    "        return S0*norm.cdf(d1) - E*np.exp(-rf*(T-t))*norm.cdf(d2)\n",
    "    else:\n",
    "        return -S0*norm.cdf(-d1) + E*np.exp(-rf*(T-t))*norm.cdf(-d2)\n",
    "\n"
   ]
  },
  {
   "cell_type": "code",
   "execution_count": 306,
   "id": "f2bb190e-4c8e-41ab-bc51-b5ac4058c143",
   "metadata": {},
   "outputs": [],
   "source": [
    "def stock_prices_risk_neutral(S0, r, sigma, t, simulations=100):\n",
    "    Z = np.random.normal(size=simulations)\n",
    "    ST = S0 * np.exp((r - 0.5 * sigma**2) * t + sigma * np.sqrt(t) * Z)\n",
    "    return ST\n"
   ]
  },
  {
   "cell_type": "code",
   "execution_count": 308,
   "id": "7a5cf58d-0476-44bf-b957-068bd0008967",
   "metadata": {},
   "outputs": [],
   "source": [
    "sigma = 0.2\n",
    "mu = 0.05\n",
    "rf = mu\n",
    "E = 100\n",
    "T = 1\n",
    "S0 = 100\n",
    "SIMULATIONS = 10000\n",
    "\n",
    "call_option_val_bs = option_value(100, E, sigma, mu, T)\n",
    "put_option_val_bs =  option_value(100, E, sigma, mu, T, option_type='put')\n",
    "\n",
    "\n",
    "stock_prices = stock_prices_risk_neutral(S0, mu, sigma, T, SIMULATIONS)\n",
    "# mean_stock_price = stock_prices.mean()\n",
    "call_values_mc = np.clip(stock_prices-E, a_min=0, a_max=None).mean()\n",
    "call_option_val_discounted =  np.exp(-rf*T)*call_values_mc\n",
    "put_values_mc = np.clip(E-stock_prices,  a_max=None, a_min=0).mean()\n",
    "put_option_val_mc =  np.exp(-rf*T)*put_values_mc\n"
   ]
  },
  {
   "cell_type": "code",
   "execution_count": null,
   "id": "ccaadb77-f4d3-416c-b07e-a7f4756843f8",
   "metadata": {},
   "outputs": [],
   "source": [
    "\n"
   ]
  },
  {
   "cell_type": "code",
   "execution_count": 311,
   "id": "85bdec3c-560f-4a71-bb3f-53e9c3877081",
   "metadata": {},
   "outputs": [
    {
     "name": "stdout",
     "output_type": "stream",
     "text": [
      "Initial Stock Price (S0): 100\n",
      "Strike Price (E): 100\n",
      "Time to Maturity (T): 1 years\n",
      "Risk-Free Rate (rf): 0.05\n",
      "Volatility (sigma): 0.2\n",
      "Drift (mu): 0.05\n",
      "Mean Terminal Stock Price from MC: 104.8735\n",
      "\n",
      "=== Option Prices ===\n",
      "Call Option (Black-Scholes): 10.450583572185565\n",
      "Put Option  (Black-Scholes): 5.573526022256971\n",
      "Call Option (Monte Carlo)  : 9.940331015874698\n",
      "Put Option  (Monte Carlo)  : 5.633643185792855\n"
     ]
    }
   ],
   "source": [
    "# --- Print Variables ---\n",
    "print(f\"Initial Stock Price (S0): {S0}\")\n",
    "print(f\"Strike Price (E): {E}\")\n",
    "print(f\"Time to Maturity (T): {T} years\")\n",
    "print(f\"Risk-Free Rate (rf): {rf}\")\n",
    "print(f\"Volatility (sigma): {sigma}\")\n",
    "print(f\"Drift (mu): {mu}\")\n",
    "print(f\"Mean Terminal Stock Price from MC: {stock_prices.mean():.4f}\")\n",
    "print()\n",
    "\n",
    "print(\"=== Option Prices ===\")\n",
    "print(f\"Call Option (Black-Scholes): {call_option_val_bs}\")\n",
    "print(f\"Put Option  (Black-Scholes): {put_option_val_bs}\")\n",
    "print(f\"Call Option (Monte Carlo)  : {call_option_val_mc}\")\n",
    "print(f\"Put Option  (Monte Carlo)  : {put_option_val_mc}\")"
   ]
  },
  {
   "cell_type": "code",
   "execution_count": null,
   "id": "d4fab38c-15ce-4b58-a2f6-25348c3ad439",
   "metadata": {},
   "outputs": [],
   "source": []
  },
  {
   "cell_type": "code",
   "execution_count": null,
   "id": "0d59375a-2c12-40a9-8d21-aa974d68e8d3",
   "metadata": {},
   "outputs": [],
   "source": []
  },
  {
   "cell_type": "code",
   "execution_count": null,
   "id": "1a30dc4d-de21-447d-976c-dc29eca7b879",
   "metadata": {},
   "outputs": [],
   "source": []
  },
  {
   "cell_type": "code",
   "execution_count": null,
   "id": "c9d6092c-c591-4c1d-913d-65d39010a4f7",
   "metadata": {},
   "outputs": [],
   "source": []
  }
 ],
 "metadata": {
  "kernelspec": {
   "display_name": "Python [conda env:base] *",
   "language": "python",
   "name": "conda-base-py"
  },
  "language_info": {
   "codemirror_mode": {
    "name": "ipython",
    "version": 3
   },
   "file_extension": ".py",
   "mimetype": "text/x-python",
   "name": "python",
   "nbconvert_exporter": "python",
   "pygments_lexer": "ipython3",
   "version": "3.12.2"
  }
 },
 "nbformat": 4,
 "nbformat_minor": 5
}
